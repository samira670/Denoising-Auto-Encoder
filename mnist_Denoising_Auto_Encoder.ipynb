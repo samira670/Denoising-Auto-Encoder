{
  "nbformat": 4,
  "nbformat_minor": 0,
  "metadata": {
    "colab": {
      "provenance": []
    },
    "kernelspec": {
      "name": "python3",
      "display_name": "Python 3"
    },
    "language_info": {
      "name": "python"
    }
  },
  "cells": [
    {
      "cell_type": "markdown",
      "source": [
        "##Denoising Auto-Encoder for mnist images"
      ],
      "metadata": {
        "id": "GlxDc8CsGOjJ"
      }
    },
    {
      "cell_type": "markdown",
      "source": [
        "importing necessary libraries and modules for building and training neural network models, as well as for data visualization."
      ],
      "metadata": {
        "id": "JYFWHG2rJi6z"
      }
    },
    {
      "cell_type": "code",
      "metadata": {
        "id": "aEM0FZFRzHP_"
      },
      "source": [
        "from tensorflow.keras.datasets import mnist\n",
        "from tensorflow.keras.layers import Input, Dense\n",
        "from tensorflow.keras.models import Model\n",
        "import matplotlib.pyplot as plt\n",
        "import numpy as np"
      ],
      "execution_count": 1,
      "outputs": []
    },
    {
      "cell_type": "code",
      "metadata": {
        "colab": {
          "base_uri": "https://localhost:8080/"
        },
        "id": "KCLyUDa_8A08",
        "outputId": "4bf11825-b244-4cc4-9476-a4156ca3762d"
      },
      "source": [
        "#This is unsupervised learning so the labels are not needed\n",
        "\n",
        "(X_train, _), (X_test, _) = mnist.load_data()\n",
        "\n",
        "\n",
        "#Normalize our data\n",
        "X_train = X_train.astype('float32')/255\n",
        "X_test = X_test.astype('float32')/255\n",
        "\n",
        "#Make noisy data\n",
        "noise_factor = 0.5\n",
        "X_train_noisy = X_train + noise_factor * np.random.normal(loc=0.0, scale=1.0, size=X_train.shape)\n",
        "X_test_noisy = X_test + noise_factor * np.random.normal(loc=0.0, scale=1.0, size=X_test.shape)\n",
        "\n",
        "#Normalize noisy data between 0 and 1\n",
        "X_train_noisy = np.clip(X_train_noisy, 0., 1.)\n",
        "X_test_noisy = np.clip(X_test_noisy, 0., 1.)\n",
        "\n",
        "print(X_train.shape)\n",
        "print(X_test.shape)"
      ],
      "execution_count": 3,
      "outputs": [
        {
          "output_type": "stream",
          "name": "stdout",
          "text": [
            "(60000, 28, 28)\n",
            "(10000, 28, 28)\n"
          ]
        }
      ]
    },
    {
      "cell_type": "code",
      "metadata": {
        "colab": {
          "base_uri": "https://localhost:8080/"
        },
        "id": "-c7Ur-sY9Vtx",
        "outputId": "bc381c9c-7430-4522-c10d-c2fd1f541d8c"
      },
      "source": [
        "#Transfer the images to vector as there is dense in the model\n",
        "X_train = X_train.reshape(len(X_train), 784)\n",
        "X_test = X_test.reshape(len(X_test), 784)\n",
        "\n",
        "X_train_noisy = X_train_noisy.reshape(len(X_train_noisy), 784)\n",
        "X_test_noisy = X_test_noisy.reshape(len(X_test_noisy), 784)\n",
        "\n",
        "print(X_train.shape)\n",
        "print(X_test.shape)"
      ],
      "execution_count": 4,
      "outputs": [
        {
          "output_type": "stream",
          "name": "stdout",
          "text": [
            "(60000, 784)\n",
            "(10000, 784)\n"
          ]
        }
      ]
    },
    {
      "cell_type": "code",
      "metadata": {
        "colab": {
          "base_uri": "https://localhost:8080/"
        },
        "id": "14jliYwr9tYS",
        "outputId": "f5225158-da82-4ede-84b3-9aef3173a882"
      },
      "source": [
        "#Designing the model\n",
        "input_img = Input(shape=(784,))\n",
        "encoder = Dense(units=32, activation='relu')(input_img)\n",
        "decoder = Dense(units=784, activation='sigmoid')(encoder)\n",
        "\n",
        "autoencoder = Model(input_img, decoder)\n",
        "autoencoder.summary()"
      ],
      "execution_count": 5,
      "outputs": [
        {
          "output_type": "stream",
          "name": "stdout",
          "text": [
            "Model: \"model\"\n",
            "_________________________________________________________________\n",
            " Layer (type)                Output Shape              Param #   \n",
            "=================================================================\n",
            " input_1 (InputLayer)        [(None, 784)]             0         \n",
            "                                                                 \n",
            " dense (Dense)               (None, 32)                25120     \n",
            "                                                                 \n",
            " dense_1 (Dense)             (None, 784)               25872     \n",
            "                                                                 \n",
            "=================================================================\n",
            "Total params: 50,992\n",
            "Trainable params: 50,992\n",
            "Non-trainable params: 0\n",
            "_________________________________________________________________\n"
          ]
        }
      ]
    },
    {
      "cell_type": "code",
      "metadata": {
        "colab": {
          "base_uri": "https://localhost:8080/"
        },
        "id": "qo2rsqRxMOHU",
        "outputId": "104d400a-6d3a-4d0d-c9f6-49dcedbf1582"
      },
      "source": [
        "#Train the model\n",
        "autoencoder.compile(optimizer='adam', loss='binary_crossentropy')\n",
        "autoencoder.fit(X_train_noisy, X_train,\n",
        "                epochs=30,\n",
        "                batch_size=256)"
      ],
      "execution_count": 6,
      "outputs": [
        {
          "output_type": "stream",
          "name": "stdout",
          "text": [
            "Epoch 1/30\n",
            "235/235 [==============================] - 4s 12ms/step - loss: 0.2837\n",
            "Epoch 2/30\n",
            "235/235 [==============================] - 3s 12ms/step - loss: 0.2010\n",
            "Epoch 3/30\n",
            "235/235 [==============================] - 4s 15ms/step - loss: 0.1748\n",
            "Epoch 4/30\n",
            "235/235 [==============================] - 3s 13ms/step - loss: 0.1603\n",
            "Epoch 5/30\n",
            "235/235 [==============================] - 3s 12ms/step - loss: 0.1509\n",
            "Epoch 6/30\n",
            "235/235 [==============================] - 3s 11ms/step - loss: 0.1433\n",
            "Epoch 7/30\n",
            "235/235 [==============================] - 3s 12ms/step - loss: 0.1383\n",
            "Epoch 8/30\n",
            "235/235 [==============================] - 4s 16ms/step - loss: 0.1351\n",
            "Epoch 9/30\n",
            "235/235 [==============================] - 3s 11ms/step - loss: 0.1331\n",
            "Epoch 10/30\n",
            "235/235 [==============================] - 3s 11ms/step - loss: 0.1318\n",
            "Epoch 11/30\n",
            "235/235 [==============================] - 3s 11ms/step - loss: 0.1310\n",
            "Epoch 12/30\n",
            "235/235 [==============================] - 4s 15ms/step - loss: 0.1305\n",
            "Epoch 13/30\n",
            "235/235 [==============================] - 3s 12ms/step - loss: 0.1298\n",
            "Epoch 14/30\n",
            "235/235 [==============================] - 4s 16ms/step - loss: 0.1289\n",
            "Epoch 15/30\n",
            "235/235 [==============================] - 3s 11ms/step - loss: 0.1286\n",
            "Epoch 16/30\n",
            "235/235 [==============================] - 3s 14ms/step - loss: 0.1284\n",
            "Epoch 17/30\n",
            "235/235 [==============================] - 3s 14ms/step - loss: 0.1282\n",
            "Epoch 18/30\n",
            "235/235 [==============================] - 3s 11ms/step - loss: 0.1281\n",
            "Epoch 19/30\n",
            "235/235 [==============================] - 3s 11ms/step - loss: 0.1279\n",
            "Epoch 20/30\n",
            "235/235 [==============================] - 3s 11ms/step - loss: 0.1278\n",
            "Epoch 21/30\n",
            "235/235 [==============================] - 4s 16ms/step - loss: 0.1277\n",
            "Epoch 22/30\n",
            "235/235 [==============================] - 3s 11ms/step - loss: 0.1276\n",
            "Epoch 23/30\n",
            "235/235 [==============================] - 3s 11ms/step - loss: 0.1275\n",
            "Epoch 24/30\n",
            "235/235 [==============================] - 3s 11ms/step - loss: 0.1274\n",
            "Epoch 25/30\n",
            "235/235 [==============================] - 3s 13ms/step - loss: 0.1274\n",
            "Epoch 26/30\n",
            "235/235 [==============================] - 3s 14ms/step - loss: 0.1273\n",
            "Epoch 27/30\n",
            "235/235 [==============================] - 3s 11ms/step - loss: 0.1272\n",
            "Epoch 28/30\n",
            "235/235 [==============================] - 3s 11ms/step - loss: 0.1271\n",
            "Epoch 29/30\n",
            "235/235 [==============================] - 3s 11ms/step - loss: 0.1270\n",
            "Epoch 30/30\n",
            "235/235 [==============================] - 4s 15ms/step - loss: 0.1269\n"
          ]
        },
        {
          "output_type": "execute_result",
          "data": {
            "text/plain": [
              "<keras.callbacks.History at 0x7fb7eda23be0>"
            ]
          },
          "metadata": {},
          "execution_count": 6
        }
      ]
    },
    {
      "cell_type": "code",
      "metadata": {
        "colab": {
          "base_uri": "https://localhost:8080/"
        },
        "id": "PJb8xHBzEHgT",
        "outputId": "0fa72e46-c41c-49a9-a894-81a38f43ffe4"
      },
      "source": [
        "#Feature layer layer \n",
        "encoder_model = Model(input_img, encoder)\n",
        "encoder_model.summary()"
      ],
      "execution_count": 7,
      "outputs": [
        {
          "output_type": "stream",
          "name": "stdout",
          "text": [
            "Model: \"model_1\"\n",
            "_________________________________________________________________\n",
            " Layer (type)                Output Shape              Param #   \n",
            "=================================================================\n",
            " input_1 (InputLayer)        [(None, 784)]             0         \n",
            "                                                                 \n",
            " dense (Dense)               (None, 32)                25120     \n",
            "                                                                 \n",
            "=================================================================\n",
            "Total params: 25,120\n",
            "Trainable params: 25,120\n",
            "Non-trainable params: 0\n",
            "_________________________________________________________________\n"
          ]
        }
      ]
    },
    {
      "cell_type": "code",
      "metadata": {
        "id": "Uyl9DqrIDcXF",
        "colab": {
          "base_uri": "https://localhost:8080/"
        },
        "outputId": "e7787dc4-9943-49c5-c7f6-600de2424e75"
      },
      "source": [
        "pred = autoencoder.predict(X_test_noisy)\n",
        "encoded_images = encoder_model.predict(X_test_noisy)"
      ],
      "execution_count": 8,
      "outputs": [
        {
          "output_type": "stream",
          "name": "stdout",
          "text": [
            "313/313 [==============================] - 1s 2ms/step\n",
            "313/313 [==============================] - 1s 1ms/step\n"
          ]
        }
      ]
    },
    {
      "cell_type": "code",
      "metadata": {
        "colab": {
          "base_uri": "https://localhost:8080/",
          "height": 286
        },
        "id": "ZufcegU7En5m",
        "outputId": "b7653c09-9067-4771-a686-0f838d894618"
      },
      "source": [
        "plt.figure(figsize=(40, 4))\n",
        "for i in range(10):\n",
        "    # display original\n",
        "    ax = plt.subplot(3, 20, i + 1)\n",
        "    plt.imshow(X_test_noisy[i].reshape(28, 28))\n",
        "    plt.gray()\n",
        "    ax.get_xaxis().set_visible(False)\n",
        "    ax.get_yaxis().set_visible(False)\n",
        "    \n",
        "    # display encoded image\n",
        "    ax = plt.subplot(3, 20, i + 1 + 20)\n",
        "    plt.imshow(encoded_images[i].reshape(8,4))\n",
        "    plt.gray()\n",
        "    ax.get_xaxis().set_visible(False)\n",
        "    ax.get_yaxis().set_visible(False)\n",
        "    # display reconstruction\n",
        "    ax = plt.subplot(3, 20, 2*20 +i+ 1)\n",
        "    plt.imshow(pred[i].reshape(28, 28))\n",
        "    plt.gray()\n",
        "    ax.get_xaxis().set_visible(False)\n",
        "    ax.get_yaxis().set_visible(False)\n",
        "    \n",
        "plt.show()"
      ],
      "execution_count": 9,
      "outputs": [
        {
          "output_type": "display_data",
          "data": {
            "text/plain": [
              "<Figure size 4000x400 with 30 Axes>"
            ],
            "image/png": "[encoded data removed]"
          },
          "metadata": {}
        }
      ]
    }
  ]
}